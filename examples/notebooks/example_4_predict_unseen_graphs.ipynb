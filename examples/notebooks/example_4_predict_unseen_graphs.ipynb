{
 "cells": [
  {
   "cell_type": "markdown",
   "metadata": {},
   "source": [
    "# Example 4: Predicting samples with unknown labels\n",
    "\n",
    "Here we provide an example of extracting features and training a model on samples with known labels. We then take a secondary dataset without labels and predict their class. \n",
    "\n",
    "Of course, in a real scenario we are unable to predict the accuracy of our unlabelled samples. However, here we know how the data is generated and can confirm that the pipeline works correctly."
   ]
  },
  {
   "cell_type": "code",
   "execution_count": null,
   "metadata": {},
   "outputs": [],
   "source": [
    "import numpy as np\n",
    "import networkx as nx\n",
    "import pandas as pd\n",
    "from hcga.io import save_dataset\n",
    "from hcga.graph import Graph, GraphCollection\n",
    "\n",
    "import os\n",
    "from pathlib import Path\n",
    "\n",
    "if not Path(\"datasets\").exists():\n",
    "    os.mkdir(\"datasets\")\n",
    "if not Path(\"results\").exists():\n",
    "    os.mkdir(\"results\")"
   ]
  },
  {
   "cell_type": "markdown",
   "metadata": {},
   "source": [
    "# Generate synthetic data with known labels"
   ]
  },
  {
   "cell_type": "code",
   "execution_count": null,
   "metadata": {},
   "outputs": [],
   "source": [
    "# this cell is generating some synthetic graph dataset with node features.\n",
    "\n",
    "\n",
    "# defining limits on number of nodes\n",
    "n_min = 20\n",
    "n_max = 50\n",
    "\n",
    "# number of graphs\n",
    "num_g = 100\n",
    "\n",
    "# number of node features - in this example I will generate random node features that aren't useful for classifcation\n",
    "n_nf = 3\n",
    "\n",
    "\n",
    "# empty list of graphs and labels\n",
    "graphs = []\n",
    "labels = []\n",
    "node_features = []\n",
    "\n",
    "\n",
    "# setting limits on probability of edge existing for random graphs\n",
    "p_min = 0.1\n",
    "p_max = 0.5\n",
    "\n",
    "# adding 50 random graphs (label 0)\n",
    "for i in range(int(num_g / 2)):\n",
    "    rand_n = np.random.randint(n_min, n_max)\n",
    "    rand_p = np.random.randint(int(p_min * 100), int(p_max * 100)) / 100\n",
    "\n",
    "    g = nx.fast_gnp_random_graph(rand_n, rand_p)\n",
    "    g.label = 0\n",
    "\n",
    "    node_feat_matrix = np.random.random((rand_n, n_nf))\n",
    "\n",
    "    for i, node in enumerate(g.nodes):\n",
    "        g.nodes[node][\"features\"] = node_feat_matrix[i, :]\n",
    "\n",
    "    # graphs.append(g)\n",
    "\n",
    "    graphs.append(nx.to_numpy_array(g) * 2)\n",
    "\n",
    "    node_features.append(node_feat_matrix)\n",
    "\n",
    "    labels.append(0)\n",
    "\n",
    "# setting limits on number of edges to add per node\n",
    "m_min = 1\n",
    "m_max = 5\n",
    "\n",
    "# adding 50  powerlaw cluster graphs (label 1)\n",
    "for i in range(int(num_g / 2)):\n",
    "    rand_n = np.random.randint(n_min, n_max)\n",
    "    rand_p = np.random.randint(int(p_min * 100), int(p_max * 100)) / 100\n",
    "    rand_m = np.random.randint(m_min, m_max)\n",
    "\n",
    "    g = nx.powerlaw_cluster_graph(rand_n, rand_m, rand_p)\n",
    "    g.label = 1\n",
    "\n",
    "    node_feat_matrix = np.random.random((rand_n, n_nf))\n",
    "\n",
    "    for i, node in enumerate(g.nodes):\n",
    "        g.nodes[node][\"features\"] = node_feat_matrix[i, :]\n",
    "\n",
    "    # graphs.append(g)\n",
    "\n",
    "    graphs.append(nx.to_numpy_array(g) * 2)\n",
    "    node_features.append(node_feat_matrix)\n",
    "\n",
    "    labels.append(1)"
   ]
  },
  {
   "cell_type": "code",
   "execution_count": null,
   "metadata": {},
   "outputs": [],
   "source": [
    "from hcga.graph import Graph, GraphCollection\n",
    "\n",
    "# create graph collection object\n",
    "graphs_labelled = GraphCollection()\n",
    "graphs_labelled.add_graph_list(graphs, node_features, labels)\n",
    "\n",
    "save_dataset(\n",
    "    graphs_labelled, \"custom_dataset_classification_labelled\", folder=\"./datasets\"\n",
    ")\n",
    "\n",
    "# perform some sanity checks\n",
    "print(\"There are {} graphs\".format(len(graphs_labelled.graphs)))\n",
    "print(\"There are {} features per node\".format(graphs_labelled.get_n_node_features()))"
   ]
  },
  {
   "cell_type": "markdown",
   "metadata": {},
   "source": [
    "# Extract and analyse labelled data"
   ]
  },
  {
   "cell_type": "code",
   "execution_count": null,
   "metadata": {},
   "outputs": [],
   "source": [
    "# define an object\n",
    "from hcga.hcga import Hcga\n",
    "\n",
    "h = Hcga()"
   ]
  },
  {
   "cell_type": "code",
   "execution_count": null,
   "metadata": {},
   "outputs": [],
   "source": [
    "# load and extract features for the primary dataset with training labels\n",
    "h.load_data(\"./datasets/custom_dataset_classification_labelled.pkl\")\n",
    "h.extract(mode=\"fast\", n_workers=4, timeout=5)"
   ]
  },
  {
   "cell_type": "code",
   "execution_count": null,
   "metadata": {},
   "outputs": [],
   "source": [
    "h.analyse_features(save_model=True, plot=False, results_folder=\"./results/test\")"
   ]
  },
  {
   "cell_type": "markdown",
   "metadata": {},
   "source": [
    "# Construct synthetic data with no labels\n",
    "\n",
    "Creating synthetic data constructed in the same way as the training data but without labels."
   ]
  },
  {
   "cell_type": "code",
   "execution_count": null,
   "metadata": {},
   "outputs": [],
   "source": [
    "# this cell is generating some synthetic graph dataset with node features.\n",
    "\n",
    "\n",
    "# defining limits on number of nodes\n",
    "n_min = 20\n",
    "n_max = 50\n",
    "\n",
    "# number of graphs\n",
    "num_g = 20\n",
    "\n",
    "# number of node features - in this example I will generate random node features that aren't useful for classifcation\n",
    "n_nf = 3\n",
    "\n",
    "\n",
    "# empty list of graphs and labels\n",
    "graphs = []\n",
    "node_features = []\n",
    "\n",
    "\n",
    "# setting limits on probability of edge existing for random graphs\n",
    "p_min = 0.1\n",
    "p_max = 0.5\n",
    "\n",
    "# adding 50 random graphs (label 0)\n",
    "for i in range(int(num_g / 2)):\n",
    "    rand_n = np.random.randint(n_min, n_max)\n",
    "    rand_p = np.random.randint(int(p_min * 100), int(p_max * 100)) / 100\n",
    "\n",
    "    g = nx.fast_gnp_random_graph(rand_n, rand_p)\n",
    "    g.label = 0\n",
    "\n",
    "    node_feat_matrix = np.random.random((rand_n, n_nf))\n",
    "\n",
    "    for i, node in enumerate(g.nodes):\n",
    "        g.nodes[node][\"features\"] = node_feat_matrix[i, :]\n",
    "\n",
    "    # graphs.append(g)\n",
    "\n",
    "    graphs.append(nx.to_numpy_array(g) * 2)\n",
    "\n",
    "    node_features.append(node_feat_matrix)\n",
    "\n",
    "\n",
    "# setting limits on number of edges to add per node\n",
    "m_min = 1\n",
    "m_max = 5\n",
    "\n",
    "# adding 50  powerlaw cluster graphs (label 1)\n",
    "for i in range(int(num_g / 2)):\n",
    "    rand_n = np.random.randint(n_min, n_max)\n",
    "    rand_p = np.random.randint(int(p_min * 100), int(p_max * 100)) / 100\n",
    "    rand_m = np.random.randint(m_min, m_max)\n",
    "\n",
    "    g = nx.powerlaw_cluster_graph(rand_n, rand_m, rand_p)\n",
    "    g.label = 1\n",
    "\n",
    "    node_feat_matrix = np.random.random((rand_n, n_nf))\n",
    "\n",
    "    for i, node in enumerate(g.nodes):\n",
    "        g.nodes[node][\"features\"] = node_feat_matrix[i, :]\n",
    "\n",
    "    # graphs.append(g)\n",
    "\n",
    "    graphs.append(nx.to_numpy_array(g) * 2)\n",
    "    node_features.append(node_feat_matrix)"
   ]
  },
  {
   "cell_type": "code",
   "execution_count": null,
   "metadata": {},
   "outputs": [],
   "source": [
    "# create graph collection object\n",
    "graphs_unlabelled = GraphCollection()\n",
    "graphs_unlabelled.add_graph_list(graphs, node_features)  # loaded without the labels\n",
    "\n",
    "# save the unlabelled dataset\n",
    "save_dataset(\n",
    "    graphs_unlabelled, \"custom_dataset_classification_unlabelled\", folder=\"./datasets\"\n",
    ")\n",
    "\n",
    "# perform some sanity checks\n",
    "print(\n",
    "    \"There are {} graphs in the unlabelled dataset\".format(\n",
    "        len(graphs_unlabelled.graphs)\n",
    "    )\n",
    ")\n",
    "print(\"There are {} features per node\".format(graphs_unlabelled.get_n_node_features()))"
   ]
  },
  {
   "cell_type": "markdown",
   "metadata": {},
   "source": [
    "# Extract and predict unlabelled data using pre-trained model"
   ]
  },
  {
   "cell_type": "code",
   "execution_count": null,
   "metadata": {},
   "outputs": [],
   "source": [
    "# extract features for the secondary dataset with no labels\n",
    "h.load_data(\n",
    "    \"./datasets/custom_dataset_classification_unlabelled.pkl\"\n",
    ")  # set prediction graphs to True\n",
    "h.extract(mode=\"fast\", n_workers=4, timeout=20)  # set prediction set to True"
   ]
  },
  {
   "cell_type": "code",
   "execution_count": null,
   "metadata": {},
   "outputs": [],
   "source": [
    "h.analyse_features(\n",
    "    plot=False,\n",
    "    trained_model=\"./results/test/fitted_model\",\n",
    "    results_folder=\"./results/test\",\n",
    ")"
   ]
  },
  {
   "cell_type": "markdown",
   "metadata": {},
   "source": [
    "# Lets look at the predictions"
   ]
  },
  {
   "cell_type": "code",
   "execution_count": null,
   "metadata": {},
   "outputs": [],
   "source": [
    "predictions = pd.read_csv(\"./results/test/prediction_results.csv\", index_col=0)\n",
    "print(predictions)"
   ]
  }
 ],
 "metadata": {
  "kernelspec": {
   "display_name": "Python 3",
   "language": "python",
   "name": "python3"
  },
  "language_info": {
   "codemirror_mode": {
    "name": "ipython",
    "version": 3
   },
   "file_extension": ".py",
   "mimetype": "text/x-python",
   "name": "python",
   "nbconvert_exporter": "python",
   "pygments_lexer": "ipython3",
   "version": "3.7.7"
  }
 },
 "nbformat": 4,
 "nbformat_minor": 4
}
