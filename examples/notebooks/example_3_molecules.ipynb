{
 "cells": [
  {
   "cell_type": "markdown",
   "metadata": {},
   "source": [
    "# Example: Molecule dataset\n",
    "\n",
    "Here we show a real-world example where we download a molecule dataset where the graphs include energy based measures such as band gap or physical measures such as shear and bulk moduli.  "
   ]
  },
  {
   "cell_type": "code",
   "execution_count": null,
   "metadata": {},
   "outputs": [],
   "source": [
    "import pandas as pd\n",
    "import numpy as np\n",
    "import json\n",
    "import networkx as nx\n",
    "import matplotlib.pyplot as plt\n",
    "import signal\n",
    "import scipy as sc\n",
    "\n",
    "import urllib.request\n",
    "import os\n",
    "from pathlib import Path\n",
    "\n",
    "if not Path(\"datasets\").exists():\n",
    "    os.mkdir(\"datasets\")\n",
    "if not Path(\"results\").exists():\n",
    "    os.mkdir(\"results\")"
   ]
  },
  {
   "cell_type": "markdown",
   "metadata": {},
   "source": [
    "## Download the dataset\n",
    "\n",
    "NOTE: If the below cell does not work then please download directly from https://figshare.com/articles/Graphs_of_materials_project/7451351 and place into a folder of your choosing."
   ]
  },
  {
   "cell_type": "code",
   "execution_count": null,
   "metadata": {},
   "outputs": [],
   "source": [
    "# load molecules from https://figshare.com/articles/Graphs_of_materials_project/7451351\n",
    "import zipfile\n",
    "\n",
    "folder = \"./datasets/molecules\"\n",
    "if not Path(folder).exists():\n",
    "    os.mkdir(folder)\n",
    "\n",
    "urllib.request.urlretrieve(\n",
    "    \"https://ndownloader.figshare.com/files/15087992\",\n",
    "    \"./datasets/molecules/molecules.zip\",\n",
    ")\n",
    "\n",
    "with zipfile.ZipFile(\"./datasets/molecules/molecules.zip\", \"r\") as zip_ref:\n",
    "    zip_ref.extractall()"
   ]
  },
  {
   "cell_type": "markdown",
   "metadata": {},
   "source": [
    "## Load the data into python"
   ]
  },
  {
   "cell_type": "code",
   "execution_count": null,
   "metadata": {},
   "outputs": [],
   "source": [
    "with open(\"./datasets/molecules/mp.2018.6.1.json\") as json_file:\n",
    "    data = json.load(json_file)"
   ]
  },
  {
   "cell_type": "markdown",
   "metadata": {},
   "source": [
    "Since the dataset is quite large and this is an example, the next cell filters out those molecules that don't have a bulk and shear moduli label."
   ]
  },
  {
   "cell_type": "code",
   "execution_count": null,
   "metadata": {},
   "outputs": [],
   "source": [
    "# only look at molecules with bulk and shear moduli available\n",
    "mols = []\n",
    "for mol in data:\n",
    "    if \"G\" in list(mol.keys()):\n",
    "        mols.append(mol)"
   ]
  },
  {
   "cell_type": "markdown",
   "metadata": {},
   "source": [
    "# Graph construction from raw data"
   ]
  },
  {
   "cell_type": "code",
   "execution_count": null,
   "metadata": {},
   "outputs": [],
   "source": [
    "#  construct graph from bond energies\n",
    "data = []\n",
    "\n",
    "keys = set(x for l in mols for x in l)\n",
    "\n",
    "G = np.zeros(len(mols))\n",
    "K = np.zeros(len(mols))\n",
    "band_gap = np.zeros(len(mols))\n",
    "formation_energy = np.zeros(len(mols))\n",
    "G[:] = np.nan\n",
    "K[:] = np.nan\n",
    "band_gap[:] = np.nan\n",
    "formation_energy[:] = np.nan\n",
    "\n",
    "labels = []\n",
    "graphs = []\n",
    "node_features = []\n",
    "\n",
    "for i, mol in enumerate(mols):\n",
    "    graph = mol[\"graph\"]\n",
    "    edges = pd.DataFrame(columns=[\"source\", \"target\", \"weight\"])\n",
    "    edges[\"source\"] = graph[\"index1\"]\n",
    "    edges[\"target\"] = graph[\"index2\"]\n",
    "    edges[\"weight\"] = graph[\"bond\"]\n",
    "    edges = edges.groupby([\"source\", \"target\"]).sum()\n",
    "    edges.reset_index(level=1, inplace=True)\n",
    "    edges.reset_index(level=0, inplace=True)\n",
    "    g = nx.from_pandas_edgelist(edges, edge_attr=True)\n",
    "\n",
    "    # get node features (N x f)\n",
    "    node_feats = np.asarray(graph[\"atom\"])\n",
    "    node_feat_matrix = np.zeros((node_feats.size, 100))\n",
    "    node_feat_matrix[np.arange(node_feats.size), node_feats] = 1\n",
    "\n",
    "    # append to graphs list\n",
    "    graphs.append(g)\n",
    "    labels.append(mol[\"band_gap\"])\n",
    "    node_features.append(node_feat_matrix)\n",
    "\n",
    "    # G[i] = mol['G']\n",
    "    # K[i] = mol['K']\n",
    "    # band_gap[i] = mol['band_gap']\n",
    "    # formation_energy[i] = mol['formation_energy_per_atom']"
   ]
  },
  {
   "cell_type": "markdown",
   "metadata": {},
   "source": [
    "## Load into graph object for hcga"
   ]
  },
  {
   "cell_type": "code",
   "execution_count": null,
   "metadata": {},
   "outputs": [],
   "source": [
    "# converting this data into the format required for hcga\n",
    "\n",
    "from hcga.graph import Graph, GraphCollection\n",
    "\n",
    "# create graph collection object\n",
    "g_c = GraphCollection()\n",
    "\n",
    "# add graphs, node features and labels to the object\n",
    "g_c.add_graph_list(graphs, node_features, labels)"
   ]
  },
  {
   "cell_type": "code",
   "execution_count": null,
   "metadata": {},
   "outputs": [],
   "source": [
    "# perform some sanity checks\n",
    "\n",
    "print(\"There are {} graphs\".format(len(g_c.graphs)))\n",
    "print(\"There are {} features per node\".format(g_c.get_n_node_features()))"
   ]
  },
  {
   "cell_type": "code",
   "execution_count": null,
   "metadata": {},
   "outputs": [],
   "source": [
    "# we can save this if we want to and run everything from the command line\n",
    "from hcga.io import save_dataset\n",
    "\n",
    "save_dataset(g_c, \"molecules\", folder=\"./datasets/molecules/\")"
   ]
  },
  {
   "cell_type": "markdown",
   "metadata": {},
   "source": [
    "# Extracting features\n"
   ]
  },
  {
   "cell_type": "code",
   "execution_count": null,
   "metadata": {},
   "outputs": [],
   "source": [
    "# import hcga object\n",
    "from hcga.hcga import Hcga\n",
    "\n",
    "# define an object\n",
    "h = Hcga()\n",
    "\n",
    "# load previously saved dataset\n",
    "h.load_data(\"./datasets/molecules/molecules.pkl\")"
   ]
  },
  {
   "cell_type": "code",
   "execution_count": null,
   "metadata": {
    "scrolled": true
   },
   "outputs": [],
   "source": [
    "# extracting all features here\n",
    "h.extract(mode=\"fast\", n_workers=4, timeout=5)\n",
    "\n",
    "# saving all features into a pickle\n",
    "h.save_features(\"./results/molecules/all_features.pkl\")"
   ]
  },
  {
   "cell_type": "markdown",
   "metadata": {},
   "source": [
    "## Analysis \n",
    "\n",
    "Here we perform a regression of the extracted features against bandgap (this label can be changed)."
   ]
  },
  {
   "cell_type": "code",
   "execution_count": null,
   "metadata": {},
   "outputs": [],
   "source": [
    "# load the saved features\n",
    "\n",
    "h.load_features(\"./results/molecules/all_features.pkl\")"
   ]
  },
  {
   "cell_type": "code",
   "execution_count": null,
   "metadata": {},
   "outputs": [],
   "source": [
    "# implement a regression analyse of the features\n",
    "h.analyse_features(\n",
    "    feature_file=\"./results/molecules/all_features.pkl\",\n",
    "    results_folder=\"./results/molecules\",\n",
    ")"
   ]
  }
 ],
 "metadata": {
  "kernelspec": {
   "display_name": "Python 3",
   "language": "python",
   "name": "python3"
  },
  "language_info": {
   "codemirror_mode": {
    "name": "ipython",
    "version": 3
   },
   "file_extension": ".py",
   "mimetype": "text/x-python",
   "name": "python",
   "nbconvert_exporter": "python",
   "pygments_lexer": "ipython3",
   "version": "3.8.0"
  }
 },
 "nbformat": 4,
 "nbformat_minor": 4
}
